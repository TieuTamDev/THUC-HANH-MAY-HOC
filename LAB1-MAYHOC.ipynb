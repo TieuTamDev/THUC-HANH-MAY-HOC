{
 "cells": [
  {
   "cell_type": "code",
   "execution_count": 1,
   "id": "c47bf993",
   "metadata": {},
   "outputs": [],
   "source": [
    "#Bài Tập 1\n",
    "import numpy as np"
   ]
  },
  {
   "cell_type": "code",
   "execution_count": 101,
   "id": "c5c24997",
   "metadata": {},
   "outputs": [
    {
     "name": "stdout",
     "output_type": "stream",
     "text": [
      "[ 4  5  6  7  8  9 10 11]\n"
     ]
    }
   ],
   "source": [
    "#Câu 1: Khởi tạo mảng 1 chiều từ 4-10\n",
    "arr = np.array(range(4,12))\n",
    "print(arr)"
   ]
  },
  {
   "cell_type": "code",
   "execution_count": 47,
   "id": "e2a87fdd",
   "metadata": {},
   "outputs": [
    {
     "name": "stdout",
     "output_type": "stream",
     "text": [
      "[[ True  True  True]\n",
      " [ True  True  True]\n",
      " [ True  True  True]]\n"
     ]
    }
   ],
   "source": [
    "#Câu 2: Tạo một mảng boolean 3x3 với tất cả giá true\n",
    "arr1 = np.ones((3,3))\n",
    "print(arr1 > 0) "
   ]
  },
  {
   "cell_type": "code",
   "execution_count": 87,
   "id": "83d6c076",
   "metadata": {},
   "outputs": [
    {
     "name": "stdout",
     "output_type": "stream",
     "text": [
      "[[ 2 14  1]\n",
      " [11  8  0]\n",
      " [ 5 12 12]]\n"
     ]
    }
   ],
   "source": [
    "#Câu 3: Lấy những phần tử mà thảo mãn một điều kiện cho trước của mảng 2 chiều\n",
    "arr2 = np.random.randint(15, size = (3,3))\n",
    "print(arr2)"
   ]
  },
  {
   "cell_type": "code",
   "execution_count": 88,
   "id": "eabb7376",
   "metadata": {},
   "outputs": [
    {
     "name": "stdout",
     "output_type": "stream",
     "text": [
      "Phần tử là số lẻ: \n",
      " [ 1 11  5]\n"
     ]
    }
   ],
   "source": [
    "#- Số lẻ\n",
    "out1 = np.where(arr2 % 2 == 1)\n",
    "print('Phần tử là số lẻ: \\n', arr2[out1])"
   ]
  },
  {
   "cell_type": "code",
   "execution_count": 89,
   "id": "9c80f76c",
   "metadata": {},
   "outputs": [
    {
     "name": "stdout",
     "output_type": "stream",
     "text": [
      "Phần tử là số chẵn: \n",
      " [ 2 14  8  0 12 12]\n"
     ]
    }
   ],
   "source": [
    "#- Số chẵn\n",
    "out2 = np.where(arr2 % 2 == 0)\n",
    "print('Phần tử là số chẵn: \\n', arr2[out2])"
   ]
  },
  {
   "cell_type": "code",
   "execution_count": 77,
   "id": "3c0c65a7",
   "metadata": {},
   "outputs": [
    {
     "name": "stdout",
     "output_type": "stream",
     "text": [
      "Phần tử là bội số của 3: \n",
      " [6 3]\n"
     ]
    }
   ],
   "source": [
    "#- Bội số của 3\n",
    "out3 = np.where(arr2 % 3 == 0)\n",
    "print('Phần tử là bội số của 3: \\n', arr2[out3])"
   ]
  },
  {
   "cell_type": "code",
   "execution_count": 90,
   "id": "ac7f613d",
   "metadata": {},
   "outputs": [
    {
     "name": "stdout",
     "output_type": "stream",
     "text": [
      "[[2 0 1]\n",
      " [0 8 0]\n",
      " [5 0 0]]\n"
     ]
    }
   ],
   "source": [
    "#Câu 4: Thay thế phần tử thoả mãn điều kiện cho trước bằng một giá trị khác\n",
    "out4 = np.where(arr2 < 10, arr2, arr2 == 0)\n",
    "print(out4)"
   ]
  },
  {
   "cell_type": "code",
   "execution_count": 102,
   "id": "780e3e2c",
   "metadata": {},
   "outputs": [
    {
     "name": "stdout",
     "output_type": "stream",
     "text": [
      "[[ 4  5]\n",
      " [ 6  7]\n",
      " [ 8  9]\n",
      " [10 11]]\n"
     ]
    }
   ],
   "source": [
    "#Câu 5: Chuyển định dạng (shape) của một ndarray. Chuyển mảng 1 chiều thành mảng 2 chiều\n",
    "To2D = arr.reshape(4,2)\n",
    "print(To2D)"
   ]
  },
  {
   "cell_type": "code",
   "execution_count": 105,
   "id": "99dcfe54",
   "metadata": {},
   "outputs": [
    {
     "name": "stdout",
     "output_type": "stream",
     "text": [
      "[[ 1.  1.  1.]\n",
      " [ 1.  1.  1.]\n",
      " [ 1.  1.  1.]\n",
      " [ 2. 14.  1.]\n",
      " [11.  8.  0.]\n",
      " [ 5. 12. 12.]]\n"
     ]
    }
   ],
   "source": [
    "#Câu 6: Xếp chồng 2 mảng theo chiều dọc, chiều n\n",
    "arrTest = np.vstack ((arr1, arr2)) \n",
    "print (arrTest)"
   ]
  },
  {
   "cell_type": "code",
   "execution_count": 114,
   "id": "10e0f8e0",
   "metadata": {},
   "outputs": [
    {
     "name": "stdout",
     "output_type": "stream",
     "text": [
      "Repeat: \n",
      " [ 4  4  4  4  4  5  5  5  5  5  6  6  6  6  6  7  7  7  7  7  8  8  8  8\n",
      "  8  9  9  9  9  9 10 10 10 10 10 11 11 11 11 11]\n",
      "Tile: \n",
      " [ 4  5  6  7  8  9 10 11  4  5  6  7  8  9 10 11  4  5  6  7  8  9 10 11]\n"
     ]
    }
   ],
   "source": [
    "#Câu 7: sử dụng repeat() và tile()\n",
    "a = np.repeat(arr, 5)\n",
    "print('Repeat: \\n',a)\n",
    "\n",
    "b = np.tile(arr, 3)\n",
    "print('Tile: \\n',b)"
   ]
  },
  {
   "cell_type": "code",
   "execution_count": 120,
   "id": "513d833f",
   "metadata": {},
   "outputs": [
    {
     "name": "stdout",
     "output_type": "stream",
     "text": [
      "{4, 5, 6}\n"
     ]
    }
   ],
   "source": [
    "#Câu 8: Tìm phần tử chung của 2 mảng\n",
    "A1 = np.array(range(1,7))\n",
    "A2 = np.array(range(4,10))\n",
    "\n",
    "test = np.array(set(A1)&set(A2))\n",
    "print(test)"
   ]
  },
  {
   "cell_type": "code",
   "execution_count": null,
   "id": "06bc040d",
   "metadata": {},
   "outputs": [],
   "source": []
  }
 ],
 "metadata": {
  "kernelspec": {
   "display_name": "Python 3 (ipykernel)",
   "language": "python",
   "name": "python3"
  },
  "language_info": {
   "codemirror_mode": {
    "name": "ipython",
    "version": 3
   },
   "file_extension": ".py",
   "mimetype": "text/x-python",
   "name": "python",
   "nbconvert_exporter": "python",
   "pygments_lexer": "ipython3",
   "version": "3.9.12"
  }
 },
 "nbformat": 4,
 "nbformat_minor": 5
}
